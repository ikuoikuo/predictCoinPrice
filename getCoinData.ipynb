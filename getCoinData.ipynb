{
 "cells": [
  {
   "cell_type": "code",
   "execution_count": null,
   "id": "b403c1b1",
   "metadata": {},
   "outputs": [],
   "source": [
    "#スクレイピングでデータ抽出（ビットコイン）\n",
    "from selenium import webdriver\n",
    "from selenium.webdriver.chrome.options import Options\n",
    "import time\n",
    "import pandas as pd\n",
    "\n",
    "chrome_options = Options()\n",
    "chrome_options.add_argument(\"--headless\")\n",
    "driver = webdriver.Chrome(executable_path =r'C:\\\\chromedriver-96\\\\chromedriver.exe' )\n",
    "driver.get(\"https://coinmarketcap.com/currencies/bitcoin/historical-data/?start=20130428&end=\")\n",
    "time.sleep(5)\n",
    "for i in range(150):\n",
    "    button = driver.find_element_by_css_selector(\"#__next > div > div > div.sc-57oli2-0.comDeo.cmc-body-wrapper > div > div.sc-16r8icm-0.jKrmxw.container > div > div > p:nth-child(3) > button\")\n",
    "    driver.execute_script(\"arguments[0].scrollIntoView(false);\", button)\n",
    "    button.click()\n",
    "    time.sleep(1)\n",
    "html = driver.page_source\n",
    "bitcoin_market_info = pd.read_html(html+time.strftime(\"%Y%m%d\"))[0]\n",
    "driver.close()\n",
    "\n",
    "# Dateを文字列から日付フォーマットへ変換\n",
    "bitcoin_market_info = bitcoin_market_info.assign(Date=pd.to_datetime(bitcoin_market_info['Date']))\n",
    " \n",
    "# 取引高が'-'の欠損データを0へ変換\n",
    "bitcoin_market_info.loc[bitcoin_market_info['Volume']==\"-\",'Volume']=0\n",
    "\n",
    "# イントへ変換\n",
    "column_list = bitcoin_market_info.columns[1:]\n",
    "for column in column_list:\n",
    "    bitcoin_market_info[column] = bitcoin_market_info[column].str.replace(\",\",\"\")\n",
    "    bitcoin_market_info[column] = bitcoin_market_info[column].str.replace(\"$\",\"\")\n",
    "    bitcoin_market_info[column] = bitcoin_market_info[column].astype(\"float64\")\n",
    "# データセットのヘッド情報の確認\n",
    "bitcoin_market_info.head()"
   ]
  },
  {
   "cell_type": "code",
   "execution_count": null,
   "id": "ac32eeb1",
   "metadata": {},
   "outputs": [],
   "source": [
    "# イーサリアムの価格データを所定のURLからスクレイピング\n",
    "chrome_options = Options()\n",
    "chrome_options.add_argument(\"--headless\")\n",
    "driver = webdriver.Chrome(executable_path =r'C:\\\\chromedriver-96\\\\chromedriver.exe' )\n",
    "driver.get(\"https://coinmarketcap.com/currencies/ethereum/historical-data/?start=20130428&end=\")\n",
    "time.sleep(5)\n",
    "for i in range(100):\n",
    "    button = driver.find_element_by_css_selector(\"#__next > div > div > div.sc-57oli2-0.comDeo.cmc-body-wrapper > div > div.sc-16r8icm-0.jKrmxw.container > div > div > p:nth-child(3) > button\")\n",
    "    driver.execute_script(\"arguments[0].scrollIntoView(false);\", button)\n",
    "    button.click()\n",
    "    time.sleep(1)\n",
    "html = driver.page_source\n",
    "eth_market_info = pd.read_html(html+time.strftime(\"%Y%m%d\"))[0]\n",
    "driver.close()\n",
    "# Dateを文字列から日付フォーマットへ変換\n",
    "eth_market_info = eth_market_info.assign(Date=pd.to_datetime(eth_market_info['Date']))\n",
    " \n",
    "# 取引高が'-'の欠損データを0へ変換\n",
    "eth_market_info.loc[eth_market_info['Volume']==\"-\",'Volume']=0\n",
    " \n",
    "# イントへ変換\n",
    "for column in column_list:\n",
    "    eth_market_info[column] = eth_market_info[column].str.replace(\",\",\"\")\n",
    "    eth_market_info[column] = eth_market_info[column].str.replace(\"$\",\"\")\n",
    "    eth_market_info[column] = eth_market_info[column].astype(\"float64\")\n",
    "# データセットのヘッド情報の確認\n",
    "eth_market_info.head()"
   ]
  },
  {
   "cell_type": "code",
   "execution_count": null,
   "id": "7b166186",
   "metadata": {},
   "outputs": [],
   "source": [
    "# ビットコインとイーサリアムのデータフレームのカラム名を変更\n",
    "bitcoin_market_info.columns =[bitcoin_market_info.columns[0]]+['bt_'+i for i in bitcoin_market_info.columns[1:]]\n",
    "eth_market_info.columns =[eth_market_info.columns[0]]+['eth_'+i for i in eth_market_info.columns[1:]]\n",
    "bitcoin_market_info=bitcoin_market_info.rename(columns={\"bt_Open*\":\"bt_Open\"})\n",
    "bitcoin_market_info=bitcoin_market_info.rename(columns={\"bt_Close**\":\"bt_Close\"})\n",
    "eth_market_info=eth_market_info.rename(columns={\"eth_Open*\":\"eth_Open\"})\n",
    "eth_market_info=eth_market_info.rename(columns={\"eth_Close**\":\"eth_Close\"})"
   ]
  },
  {
   "cell_type": "code",
   "execution_count": null,
   "id": "28e54173",
   "metadata": {},
   "outputs": [],
   "source": [
    "#csv形式に保存\n",
    "bitcoin_market_info.to_csv(\"data/bitcoin_market_info.csv\")\n",
    "eth_market_info.to_csv(\"data/eth_market_info.csv\")"
   ]
  }
 ],
 "metadata": {
  "kernelspec": {
   "display_name": "Python 3 (ipykernel)",
   "language": "python",
   "name": "python3"
  },
  "language_info": {
   "codemirror_mode": {
    "name": "ipython",
    "version": 3
   },
   "file_extension": ".py",
   "mimetype": "text/x-python",
   "name": "python",
   "nbconvert_exporter": "python",
   "pygments_lexer": "ipython3",
   "version": "3.8.12"
  }
 },
 "nbformat": 4,
 "nbformat_minor": 5
}
